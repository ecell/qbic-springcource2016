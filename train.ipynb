{
 "cells": [
  {
   "cell_type": "code",
   "execution_count": 1,
   "metadata": {
    "collapsed": false
   },
   "outputs": [],
   "source": [
    "import os\n",
    "import argparse\n",
    "import numpy as np\n",
    "import six\n",
    "import six.moves.cPickle as pickle\n",
    "import matplotlib.pyplot as plt\n",
    "import cv2\n",
    "\n",
    "import chainer\n",
    "import chainer.functions as F\n",
    "from chainer import cuda\n",
    "from chainer import optimizers\n",
    "#from chainer import computational_graph as c"
   ]
  },
  {
   "cell_type": "code",
   "execution_count": 2,
   "metadata": {
    "collapsed": true
   },
   "outputs": [],
   "source": [
    "%matplotlib inline"
   ]
  },
  {
   "cell_type": "markdown",
   "metadata": {},
   "source": [
    "###define parameters"
   ]
  },
  {
   "cell_type": "markdown",
   "metadata": {},
   "source": [
    "parser  = argparse.ArgumentParser(description='cnn for neuro classification')\n",
    "parser.add_argument('--gpu','-g',default=-1,type=int,\n",
    "                                       help='GPU ID (negative value indicates CPU)')\n",
    "parser.add_argument('--arch','-a',default='cnn3')\n",
    "parser.add_argument('--batchs','-B',default=30,type=int,\n",
    "                                      help = 'learning minibatch size')\n",
    "parser.add_argument('--epoch','-E',default=20, type=int)\n",
    "parser.add_argument('--out', '-o',default='model',\n",
    "                                      help = \"Path to save model\")\n",
    "args = parser.parse_args()"
   ]
  },
  {
   "cell_type": "code",
   "execution_count": 3,
   "metadata": {
    "collapsed": true
   },
   "outputs": [],
   "source": [
    "n_epoch =200\n",
    "batchsize=25\n",
    "gpu_flag = 0\n",
    "\n",
    "N = 900#size of train data"
   ]
  },
  {
   "cell_type": "markdown",
   "metadata": {},
   "source": [
    "###Get image dataset"
   ]
  },
  {
   "cell_type": "code",
   "execution_count": 4,
   "metadata": {
    "collapsed": true
   },
   "outputs": [],
   "source": [
    "dpath=os.path.abspath(\"\")\n",
    "foldername = \"/dataset\"\n",
    "\n",
    "x_data = np.load(dpath+foldername+\"/x_data1.npy\")\n",
    "t_data = np.load(dpath+foldername+\"/t_data1.npy\")\n",
    "mean = np.load(dpath+foldername+\"/mean.npy\")"
   ]
  },
  {
   "cell_type": "code",
   "execution_count": 5,
   "metadata": {
    "collapsed": false
   },
   "outputs": [
    {
     "name": "stdout",
     "output_type": "stream",
     "text": [
      "(1000, 1, 255, 255)\n",
      "(1000, 1, 255, 255)\n",
      "1000\n",
      "100\n"
     ]
    }
   ],
   "source": [
    "x_data = x_data - mean[:,:,:,np.newaxis]\n",
    "\n",
    "x_data = x_data.transpose(3,0,1,2).astype(np.float32)\n",
    "t_data = t_data.transpose(3,0,1,2).astype(np.float32)\n",
    "\n",
    "print x_data.shape\n",
    "print t_data.shape\n",
    "print len(x_data)\n",
    "\n",
    "N_test = len(x_data)-N\n",
    "\n",
    "print N_test"
   ]
  },
  {
   "cell_type": "code",
   "execution_count": 6,
   "metadata": {
    "collapsed": false
   },
   "outputs": [
    {
     "data": {
      "text/plain": [
       "-0.41072941"
      ]
     },
     "execution_count": 6,
     "metadata": {},
     "output_type": "execute_result"
    }
   ],
   "source": [
    "np.min(x_data)"
   ]
  },
  {
   "cell_type": "markdown",
   "metadata": {},
   "source": [
    "###Separate data into train and test"
   ]
  },
  {
   "cell_type": "code",
   "execution_count": 7,
   "metadata": {
    "collapsed": false
   },
   "outputs": [],
   "source": [
    "#shuffle the data\n",
    "shuffle = np.random.permutation(len(t_data))\n",
    "\n",
    "x_data = np.asarray(x_data[shuffle,:,:,:])\n",
    "t_data = np.asarray(t_data[shuffle,:,:,:])"
   ]
  },
  {
   "cell_type": "code",
   "execution_count": 8,
   "metadata": {
    "collapsed": false
   },
   "outputs": [
    {
     "name": "stdout",
     "output_type": "stream",
     "text": [
      "(900, 1, 255, 255) (900, 1, 255, 255)\n"
     ]
    }
   ],
   "source": [
    "#separate data\n",
    "x_train, x_test = np.split(x_data,[N],axis=0)\n",
    "t_train, t_test = np.split(t_data,[N],axis=0)\n",
    "\n",
    "print x_train.shape, t_train.shape"
   ]
  },
  {
   "cell_type": "markdown",
   "metadata": {},
   "source": [
    "###Prepare model"
   ]
  },
  {
   "cell_type": "code",
   "execution_count": 28,
   "metadata": {
    "collapsed": false,
    "scrolled": false
   },
   "outputs": [],
   "source": [
    "import segmentation\n",
    "model = segmentation.CNN_segment3()"
   ]
  },
  {
   "cell_type": "markdown",
   "metadata": {},
   "source": [
    "###GPU setup"
   ]
  },
  {
   "cell_type": "code",
   "execution_count": 29,
   "metadata": {
    "collapsed": false
   },
   "outputs": [],
   "source": [
    "if gpu_flag >= 0:\n",
    "    cuda.check_cuda_available()\n",
    "\n",
    "xp = cuda.cupy if gpu_flag >=0 else np\n",
    "    \n",
    "if gpu_flag >= 0:\n",
    "    cuda.get_device(gpu_flag).use()\n",
    "    model.to_gpu()"
   ]
  },
  {
   "cell_type": "markdown",
   "metadata": {},
   "source": [
    "###Setup optimizer(Adam)"
   ]
  },
  {
   "cell_type": "code",
   "execution_count": 30,
   "metadata": {
    "collapsed": false
   },
   "outputs": [],
   "source": [
    "optimizer = optimizers.Adam()\n",
    "optimizer.setup(model)"
   ]
  },
  {
   "cell_type": "markdown",
   "metadata": {},
   "source": [
    "###Learning loop"
   ]
  },
  {
   "cell_type": "code",
   "execution_count": 31,
   "metadata": {
    "collapsed": false
   },
   "outputs": [
    {
     "name": "stdout",
     "output_type": "stream",
     "text": [
      "epoch:  1\n",
      "train mean loss=0.206677246011\n",
      "test mean loss=0.228950701654\n",
      "epoch:  2\n",
      "train mean loss=0.201947336396\n",
      "test mean loss=0.232668474317\n",
      "epoch:  3\n",
      "train mean loss=0.202099508709\n",
      "test mean loss=0.233494330198\n",
      "epoch:  4\n",
      "train mean loss=0.201753888279\n",
      "test mean loss=0.233430594206\n",
      "epoch:  5\n",
      "train mean loss=0.20131021945\n",
      "test mean loss=0.23068626225\n",
      "epoch:  6\n",
      "train mean loss=0.201312883033\n",
      "test mean loss=0.228551656008\n",
      "epoch:  7\n",
      "train mean loss=0.201315275911\n",
      "test mean loss=0.231829363853\n",
      "epoch:  8\n",
      "train mean loss=0.201364608275\n",
      "test mean loss=0.229205921292\n",
      "epoch:  9\n",
      "train mean loss=0.201162660701\n",
      "test mean loss=0.230182752013\n",
      "epoch:  10\n",
      "train mean loss=0.201136118836\n",
      "test mean loss=0.230457291007\n",
      "epoch:  11\n",
      "train mean loss=0.201177443481\n",
      "test mean loss=0.229999888688\n",
      "epoch:  12\n",
      "train mean loss=0.201582070026\n",
      "test mean loss=0.234066523612\n",
      "epoch:  13\n",
      "train mean loss=0.201351177361\n",
      "test mean loss=0.229334395379\n",
      "epoch:  14\n",
      "train mean loss=0.201126277861\n",
      "test mean loss=0.229762297124\n",
      "epoch:  15\n",
      "train mean loss=0.200590325726\n",
      "test mean loss=0.221810728312\n",
      "epoch:  16\n",
      "train mean loss=0.143078546143\n",
      "test mean loss=0.133366502821\n",
      "epoch:  17\n",
      "train mean loss=0.104190074528\n",
      "test mean loss=0.0952019523829\n",
      "epoch:  18\n",
      "train mean loss=0.0822263407624\n",
      "test mean loss=0.0824556108564\n",
      "epoch:  19\n",
      "train mean loss=0.0733784145365\n",
      "test mean loss=0.0742314839736\n",
      "epoch:  20\n",
      "train mean loss=0.0669299227496\n",
      "test mean loss=0.076927873306\n",
      "epoch:  21\n",
      "train mean loss=0.0643793510066\n",
      "test mean loss=0.0669555794448\n",
      "epoch:  22\n",
      "train mean loss=0.0612824286024\n",
      "test mean loss=0.069050559774\n",
      "epoch:  23\n",
      "train mean loss=0.0576645399754\n",
      "test mean loss=0.0622087083757\n",
      "epoch:  24\n",
      "train mean loss=0.0538818311567\n",
      "test mean loss=0.0595470983535\n",
      "epoch:  25\n",
      "train mean loss=0.047099839482\n",
      "test mean loss=0.0469946991652\n",
      "epoch:  26\n",
      "train mean loss=0.046780786477\n",
      "test mean loss=0.046920241788\n",
      "epoch:  27\n",
      "train mean loss=0.0446559016903\n",
      "test mean loss=0.0469967527315\n",
      "epoch:  28\n",
      "train mean loss=0.0422575210945\n",
      "test mean loss=0.0435978220776\n",
      "epoch:  29\n",
      "train mean loss=0.0422314523409\n",
      "test mean loss=0.0435176156461\n",
      "epoch:  30\n",
      "train mean loss=0.0397109365505\n",
      "test mean loss=0.0432093245909\n",
      "epoch:  31\n",
      "train mean loss=0.0398537928445\n",
      "test mean loss=0.0423762528226\n",
      "epoch:  32\n",
      "train mean loss=0.0403582407162\n",
      "test mean loss=0.0418273620307\n",
      "epoch:  33\n",
      "train mean loss=0.0386848288795\n",
      "test mean loss=0.0401472151279\n",
      "epoch:  34\n",
      "train mean loss=0.0379213005718\n",
      "test mean loss=0.0401535350829\n",
      "epoch:  35\n",
      "train mean loss=0.0368844433688\n",
      "test mean loss=0.0391914788634\n",
      "epoch:  36\n",
      "train mean loss=0.0372499938951\n",
      "test mean loss=0.0389050394297\n",
      "epoch:  37\n",
      "train mean loss=0.0366763009483\n",
      "test mean loss=0.040657447651\n",
      "epoch:  38\n",
      "train mean loss=0.0367701537907\n",
      "test mean loss=0.0384933110327\n",
      "epoch:  39\n",
      "train mean loss=0.0347815720985\n",
      "test mean loss=0.0375592056662\n",
      "epoch:  40\n",
      "train mean loss=0.0343150352645\n",
      "test mean loss=0.0369010139257\n",
      "epoch:  41\n",
      "train mean loss=0.0348246572022\n",
      "test mean loss=0.036966486834\n",
      "epoch:  42\n",
      "train mean loss=0.0337891901015\n",
      "test mean loss=0.0370500693098\n",
      "epoch:  43\n",
      "train mean loss=0.0329461192402\n",
      "test mean loss=0.0357038117945\n",
      "epoch:  44\n",
      "train mean loss=0.0324724273653\n",
      "test mean loss=0.0360838025808\n",
      "epoch:  45\n",
      "train mean loss=0.0322457302051\n",
      "test mean loss=0.0351647501811\n",
      "epoch:  46\n",
      "train mean loss=0.0328451858626\n",
      "test mean loss=0.033919095993\n",
      "epoch:  47\n",
      "train mean loss=0.0306500575712\n",
      "test mean loss=0.0323217641562\n",
      "epoch:  48\n",
      "train mean loss=0.0301175189929\n",
      "test mean loss=0.0342939170077\n",
      "epoch:  49\n",
      "train mean loss=0.0298991836607\n",
      "test mean loss=0.0330121470615\n",
      "epoch:  50\n",
      "train mean loss=0.0307385059487\n",
      "test mean loss=0.0316237299703\n",
      "epoch:  51\n",
      "train mean loss=0.0288758189935\n",
      "test mean loss=0.033581124153\n",
      "epoch:  52\n",
      "train mean loss=0.0321486288578\n",
      "test mean loss=0.0311182602309\n",
      "epoch:  53\n",
      "train mean loss=0.0285555775691\n",
      "test mean loss=0.0304270270281\n",
      "epoch:  54\n",
      "train mean loss=0.0283211427223\n",
      "test mean loss=0.0305521842092\n",
      "epoch:  55\n",
      "train mean loss=0.0275067605803\n",
      "test mean loss=0.0289418236353\n",
      "epoch:  56\n",
      "train mean loss=0.0272491247807\n",
      "test mean loss=0.0287932264619\n",
      "epoch:  57\n",
      "train mean loss=0.027057814774\n",
      "test mean loss=0.0305441035889\n",
      "epoch:  58\n",
      "train mean loss=0.0263485063074\n",
      "test mean loss=0.0284247309901\n",
      "epoch:  59\n",
      "train mean loss=0.0274482205924\n",
      "test mean loss=0.02830545092\n",
      "epoch:  60\n",
      "train mean loss=0.0257329224195\n",
      "test mean loss=0.0278501501307\n",
      "epoch:  61\n",
      "train mean loss=0.0266516280567\n",
      "test mean loss=0.0289295916446\n",
      "epoch:  62\n",
      "train mean loss=0.0260383485713\n",
      "test mean loss=0.0273826192133\n",
      "epoch:  63\n",
      "train mean loss=0.0255943039018\n",
      "test mean loss=0.0275288932025\n",
      "epoch:  64\n",
      "train mean loss=0.0251304923246\n",
      "test mean loss=0.0266703893431\n",
      "epoch:  65\n",
      "train mean loss=0.0245036441936\n",
      "test mean loss=0.0268567395397\n",
      "epoch:  66\n",
      "train mean loss=0.0243813675932\n",
      "test mean loss=0.0261453534476\n",
      "epoch:  67\n",
      "train mean loss=0.0248390143323\n",
      "test mean loss=0.0274124559946\n",
      "epoch:  68\n",
      "train mean loss=0.0243636186028\n",
      "test mean loss=0.0265530869365\n",
      "epoch:  69\n",
      "train mean loss=0.0236252692218\n",
      "test mean loss=0.0266521628946\n",
      "epoch:  70\n",
      "train mean loss=0.0238457756738\n",
      "test mean loss=0.0259001571685\n",
      "epoch:  71\n",
      "train mean loss=0.0238352227542\n",
      "test mean loss=0.0260332967155\n",
      "epoch:  72\n",
      "train mean loss=0.0232218200237\n",
      "test mean loss=0.025124442298\n",
      "epoch:  73\n",
      "train mean loss=0.0228371271967\n",
      "test mean loss=0.0259036482312\n",
      "epoch:  74\n",
      "train mean loss=0.0231880304766\n",
      "test mean loss=0.0265773572028\n",
      "epoch:  75\n",
      "train mean loss=0.0230943008533\n",
      "test mean loss=0.0254131807014\n",
      "epoch:  76\n",
      "train mean loss=0.022415973867\n",
      "test mean loss=0.0242331656627\n",
      "epoch:  77\n",
      "train mean loss=0.0221647322178\n",
      "test mean loss=0.0245547466911\n",
      "epoch:  78\n",
      "train mean loss=0.0219350903709\n",
      "test mean loss=0.0241855839267\n",
      "epoch:  79\n",
      "train mean loss=0.0238864127443\n",
      "test mean loss=0.0244333064184\n",
      "epoch:  80\n",
      "train mean loss=0.022366863365\n",
      "test mean loss=0.0243595470674\n",
      "epoch:  81\n",
      "train mean loss=0.0215113426352\n",
      "test mean loss=0.0234177405946\n",
      "epoch:  82\n",
      "train mean loss=0.0213365492721\n",
      "test mean loss=0.0234494446777\n",
      "epoch:  83\n",
      "train mean loss=0.0211869727872\n",
      "test mean loss=0.0232970151119\n",
      "epoch:  84\n",
      "train mean loss=0.0209611813124\n",
      "test mean loss=0.0236502252519\n",
      "epoch:  85\n",
      "train mean loss=0.0207111954482\n",
      "test mean loss=0.0232494883239\n",
      "epoch:  86\n",
      "train mean loss=0.0210265043812\n",
      "test mean loss=0.0225792219862\n",
      "epoch:  87\n",
      "train mean loss=0.0204238992754\n",
      "test mean loss=0.0227606277913\n",
      "epoch:  88\n",
      "train mean loss=0.0204414384595\n",
      "test mean loss=0.023008194752\n",
      "epoch:  89\n",
      "train mean loss=0.0202117541598\n",
      "test mean loss=0.0223840316758\n",
      "epoch:  90\n",
      "train mean loss=0.0199102298874\n",
      "test mean loss=0.0228005624376\n",
      "epoch:  91\n",
      "train mean loss=0.0204007328591\n",
      "test mean loss=0.0224753529765\n",
      "epoch:  92\n",
      "train mean loss=0.0204533420555\n",
      "test mean loss=0.0227065724321\n",
      "epoch:  93\n",
      "train mean loss=0.0283634038125\n",
      "test mean loss=0.0268604476005\n",
      "epoch:  94\n",
      "train mean loss=0.0227651700067\n",
      "test mean loss=0.0240204334259\n",
      "epoch:  95\n",
      "train mean loss=0.0202689527844\n",
      "test mean loss=0.02283362858\n",
      "epoch:  96\n",
      "train mean loss=0.0198346519222\n",
      "test mean loss=0.0217878799886\n",
      "epoch:  97\n",
      "train mean loss=0.0194653567548\n",
      "test mean loss=0.0217227512039\n",
      "epoch:  98\n",
      "train mean loss=0.0192060421428\n",
      "test mean loss=0.0225362083875\n",
      "epoch:  99\n",
      "train mean loss=0.0194091142621\n",
      "test mean loss=0.0230036522262\n",
      "epoch:  100\n",
      "train mean loss=0.0189752629441\n",
      "test mean loss=0.0214040591381\n",
      "epoch:  101\n",
      "train mean loss=0.0188666953602\n",
      "test mean loss=0.0222549885511\n",
      "epoch:  102\n",
      "train mean loss=0.0185890884087\n",
      "test mean loss=0.0212241769768\n",
      "epoch:  103\n",
      "train mean loss=0.0184621673284\n",
      "test mean loss=0.0207211463712\n",
      "epoch:  104\n",
      "train mean loss=0.0184243015376\n",
      "test mean loss=0.0214123846963\n",
      "epoch:  105\n",
      "train mean loss=0.0185223872152\n",
      "test mean loss=0.0207401379012\n",
      "epoch:  106\n",
      "train mean loss=0.0183461625905\n",
      "test mean loss=0.0210442687385\n",
      "epoch:  107\n",
      "train mean loss=0.0180224548353\n",
      "test mean loss=0.0208351304755\n",
      "epoch:  108\n",
      "train mean loss=0.0183529301236\n",
      "test mean loss=0.0213002352975\n",
      "epoch:  109\n",
      "train mean loss=0.0181926246215\n",
      "test mean loss=0.0210190271027\n",
      "epoch:  110\n",
      "train mean loss=0.0181777220375\n",
      "test mean loss=0.0202140081674\n",
      "epoch:  111\n",
      "train mean loss=0.0177141333309\n",
      "test mean loss=0.0205419915728\n",
      "epoch:  112\n",
      "train mean loss=0.0176406391224\n",
      "test mean loss=0.0201616650447\n",
      "epoch:  113\n",
      "train mean loss=0.0175319604783\n",
      "test mean loss=0.0205100276507\n",
      "epoch:  114\n",
      "train mean loss=0.0172117874026\n",
      "test mean loss=0.0197305176407\n",
      "epoch:  115\n",
      "train mean loss=0.0178009552053\n",
      "test mean loss=0.020227282308\n",
      "epoch:  116\n",
      "train mean loss=0.0172666256419\n",
      "test mean loss=0.0198133816011\n",
      "epoch:  117\n",
      "train mean loss=0.0171082887747\n",
      "test mean loss=0.019744975958\n",
      "epoch:  118\n",
      "train mean loss=0.0170119391082\n",
      "test mean loss=0.0194781813771\n",
      "epoch:  119\n",
      "train mean loss=0.0168585452355\n",
      "test mean loss=0.0196764646098\n",
      "epoch:  120\n",
      "train mean loss=0.0167119534065\n",
      "test mean loss=0.0210060221143\n",
      "epoch:  121\n",
      "train mean loss=0.0167229306988\n",
      "test mean loss=0.0198572780937\n",
      "epoch:  122\n",
      "train mean loss=0.0164335338244\n",
      "test mean loss=0.0196756501682\n",
      "epoch:  123\n",
      "train mean loss=0.016831631617\n",
      "test mean loss=0.0191309549846\n",
      "epoch:  124\n",
      "train mean loss=0.0163323900455\n",
      "test mean loss=0.0200268412009\n",
      "epoch:  125\n",
      "train mean loss=0.0161333904964\n",
      "test mean loss=0.0191271975636\n",
      "epoch:  126\n",
      "train mean loss=0.0159427191959\n",
      "test mean loss=0.0192780666985\n",
      "epoch:  127\n",
      "train mean loss=0.0165076063325\n",
      "test mean loss=0.0199507349171\n",
      "epoch:  128\n",
      "train mean loss=0.0164323223289\n",
      "test mean loss=0.0189176290296\n",
      "epoch:  129\n",
      "train mean loss=0.0159513610415\n",
      "test mean loss=0.018770063296\n",
      "epoch:  130\n",
      "train mean loss=0.0160358240052\n",
      "test mean loss=0.0199493775144\n",
      "epoch:  131\n",
      "train mean loss=0.0156115398535\n",
      "test mean loss=0.0187151418068\n",
      "epoch:  132\n",
      "train mean loss=0.0160898741386\n",
      "test mean loss=0.0187093387358\n",
      "epoch:  133\n",
      "train mean loss=0.0158620996711\n",
      "test mean loss=0.019188163802\n",
      "epoch:  134\n",
      "train mean loss=0.0154710852593\n",
      "test mean loss=0.0189778134227\n",
      "epoch:  135\n",
      "train mean loss=0.0152893142723\n",
      "test mean loss=0.0188150047325\n",
      "epoch:  136\n",
      "train mean loss=0.0158203100372\n",
      "test mean loss=0.0186368403956\n",
      "epoch:  137\n",
      "train mean loss=0.0150516874209\n",
      "test mean loss=0.0187016869895\n",
      "epoch:  138\n",
      "train mean loss=0.0151161510083\n",
      "test mean loss=0.0189283369109\n",
      "epoch:  139\n",
      "train mean loss=0.0150311419016\n",
      "test mean loss=0.0183900070842\n",
      "epoch:  140\n",
      "train mean loss=0.0152743471165\n",
      "test mean loss=0.0182519885711\n",
      "epoch:  141\n",
      "train mean loss=0.0154347377829\n",
      "test mean loss=0.0195668921806\n",
      "epoch:  142\n",
      "train mean loss=0.0155557050214\n",
      "test mean loss=0.0180555176921\n",
      "epoch:  143\n",
      "train mean loss=0.0147315712594\n",
      "test mean loss=0.0182200388517\n",
      "epoch:  144\n",
      "train mean loss=0.0149050309685\n",
      "test mean loss=0.0184744501021\n",
      "epoch:  145\n",
      "train mean loss=0.0147593450577\n",
      "test mean loss=0.0178669744637\n",
      "epoch:  146\n",
      "train mean loss=0.0144108704084\n",
      "test mean loss=0.0177970170043\n",
      "epoch:  147\n",
      "train mean loss=0.014486595652\n",
      "test mean loss=0.0177030381747\n",
      "epoch:  148\n",
      "train mean loss=0.0148994092985\n",
      "test mean loss=0.0193656967022\n",
      "epoch:  149\n",
      "train mean loss=0.0151375442899\n",
      "test mean loss=0.0181356922258\n",
      "epoch:  150\n",
      "train mean loss=0.0147933258365\n",
      "test mean loss=0.0176573721692\n",
      "epoch:  151\n",
      "train mean loss=0.0141364627828\n",
      "test mean loss=0.0178797622211\n",
      "epoch:  152\n",
      "train mean loss=0.0138949060606\n",
      "test mean loss=0.0175818549469\n",
      "epoch:  153\n",
      "train mean loss=0.0138014262904\n",
      "test mean loss=0.0175356608815\n",
      "epoch:  154\n",
      "train mean loss=0.0139704848019\n",
      "test mean loss=0.0184059950989\n",
      "epoch:  155\n",
      "train mean loss=0.0140183087852\n",
      "test mean loss=0.0175037120935\n",
      "epoch:  156\n",
      "train mean loss=0.0134656178351\n",
      "test mean loss=0.0173712915275\n",
      "epoch:  157\n",
      "train mean loss=0.0136194312686\n",
      "test mean loss=0.0175589621067\n",
      "epoch:  158\n",
      "train mean loss=0.0135069787761\n",
      "test mean loss=0.0170980447438\n",
      "epoch:  159\n",
      "train mean loss=0.0134644996271\n",
      "test mean loss=0.0173705276102\n",
      "epoch:  160\n",
      "train mean loss=0.0132751446735\n",
      "test mean loss=0.0174023851287\n",
      "epoch:  161\n",
      "train mean loss=0.0150856605421\n",
      "test mean loss=0.0196877552662\n",
      "epoch:  162\n",
      "train mean loss=0.01553606868\n",
      "test mean loss=0.0175515124574\n",
      "epoch:  163\n",
      "train mean loss=0.0132303107271\n",
      "test mean loss=0.0169035803992\n",
      "epoch:  164\n",
      "train mean loss=0.0129619474368\n",
      "test mean loss=0.0169444142375\n",
      "epoch:  165\n",
      "train mean loss=0.0128885797587\n",
      "test mean loss=0.0175147734117\n",
      "epoch:  166\n",
      "train mean loss=0.0127889480338\n",
      "test mean loss=0.0168947647326\n",
      "epoch:  167\n",
      "train mean loss=0.0129228620014\n",
      "test mean loss=0.0171181070618\n",
      "epoch:  168\n",
      "train mean loss=0.012805651744\n",
      "test mean loss=0.0171523219906\n",
      "epoch:  169\n",
      "train mean loss=0.0129688888943\n",
      "test mean loss=0.0168327412102\n",
      "epoch:  170\n",
      "train mean loss=0.0128355889788\n",
      "test mean loss=0.0168906385079\n",
      "epoch:  171\n",
      "train mean loss=0.0127647655706\n",
      "test mean loss=0.0170788578689\n",
      "epoch:  172\n",
      "train mean loss=0.0126207859204\n",
      "test mean loss=0.0168128409423\n",
      "epoch:  173\n",
      "train mean loss=0.0124804021584\n",
      "test mean loss=0.0165929999202\n",
      "epoch:  174\n",
      "train mean loss=0.0123788633436\n",
      "test mean loss=0.0166446636431\n",
      "epoch:  175\n",
      "train mean loss=0.0124625456519\n",
      "test mean loss=0.0164837883785\n",
      "epoch:  176\n",
      "train mean loss=0.0121379908847\n",
      "test mean loss=0.0167113407515\n",
      "epoch:  177\n",
      "train mean loss=0.0122176552864\n",
      "test mean loss=0.0176752167754\n",
      "epoch:  178\n",
      "train mean loss=0.0125950837974\n",
      "test mean loss=0.0163622286636\n",
      "epoch:  179\n",
      "train mean loss=0.0120957863207\n",
      "test mean loss=0.0171133247204\n",
      "epoch:  180\n",
      "train mean loss=0.0120910127492\n",
      "test mean loss=0.0165374001954\n",
      "epoch:  181\n",
      "train mean loss=0.0120640969318\n",
      "test mean loss=0.0173208210617\n",
      "epoch:  182\n",
      "train mean loss=0.0120251612583\n",
      "test mean loss=0.0163645492867\n",
      "epoch:  183\n",
      "train mean loss=0.0118056316601\n",
      "test mean loss=0.0162279875949\n",
      "epoch:  184\n",
      "train mean loss=0.0118015291325\n",
      "test mean loss=0.0162295522168\n",
      "epoch:  185\n",
      "train mean loss=0.0117308935927\n",
      "test mean loss=0.0163251243066\n",
      "epoch:  186\n",
      "train mean loss=0.0117175743605\n",
      "test mean loss=0.0160972527228\n",
      "epoch:  187\n",
      "train mean loss=0.0118718983916\n",
      "test mean loss=0.0167089093011\n",
      "epoch:  188\n",
      "train mean loss=0.012078937764\n",
      "test mean loss=0.0163892833516\n",
      "epoch:  189\n",
      "train mean loss=0.0115139968693\n",
      "test mean loss=0.0161944343708\n",
      "epoch:  190\n",
      "train mean loss=0.0118418190266\n",
      "test mean loss=0.0168527427595\n",
      "epoch:  191\n",
      "train mean loss=0.011922905144\n",
      "test mean loss=0.0164730516262\n",
      "epoch:  192\n",
      "train mean loss=0.0114416922443\n",
      "test mean loss=0.0159411458299\n",
      "epoch:  193\n",
      "train mean loss=0.0112919737585\n",
      "test mean loss=0.0159709269647\n",
      "epoch:  194\n",
      "train mean loss=0.0112666312036\n",
      "test mean loss=0.0164770428091\n",
      "epoch:  195\n",
      "train mean loss=0.0113828774128\n",
      "test mean loss=0.0160424578935\n",
      "epoch:  196\n",
      "train mean loss=0.0110584128415\n",
      "test mean loss=0.0157757503912\n",
      "epoch:  197\n",
      "train mean loss=0.0114673835277\n",
      "test mean loss=0.0159407143947\n",
      "epoch:  198\n",
      "train mean loss=0.0112063458396\n",
      "test mean loss=0.0161040162202\n",
      "epoch:  199\n",
      "train mean loss=0.0109570801336\n",
      "test mean loss=0.0156895471737\n",
      "epoch:  200\n",
      "train mean loss=0.0110415421788\n",
      "test mean loss=0.0156811249908\n"
     ]
    }
   ],
   "source": [
    "train_loss = []\n",
    "test_loss = []\n",
    "\n",
    "for epoch in six.moves.range(1,n_epoch +1):\n",
    "    print 'epoch: ', epoch\n",
    "    \n",
    "    #training\n",
    "    perm = np.random.permutation(N)\n",
    "    sum_loss = 0\n",
    "    for i in six.moves.range(0,N,batchsize):\n",
    "        x_batch = xp.asarray(x_train[perm[i:i + batchsize]])\n",
    "        t_batch = xp.asarray(t_train[perm[i:i + batchsize]])\n",
    "        \n",
    "        optimizer.zero_grads()\n",
    "        loss = model.forward(x_batch, t_batch)\n",
    "        loss.backward()\n",
    "        optimizer.update()\n",
    "        \n",
    "#        if epoch ==1 and i ==0:\n",
    "#            with open(\"graph.dot\",\"w\") as o:\n",
    "#                o.write(c.build_computational_graph((loss, )).dump())\n",
    "#            with open(\"graph.wo_split.dot\",\"w\") as o:\n",
    "#                g = c.bulid_computational_graph((loss, ), remove_split=True)\n",
    "#                o.write(g.dump())\n",
    "                \n",
    "#            print \"graph generated\"\n",
    "        \n",
    "        #print loss.data\n",
    "\n",
    "\n",
    "        sum_loss += float(loss.data)*t_batch.shape[0]\n",
    "\n",
    "        \n",
    "    train_loss.append([epoch,sum_loss/N])\n",
    "    \n",
    "    print \"train mean loss={}\".format(sum_loss/N)\n",
    "    \n",
    "    #evaluation\n",
    "    sum_loss = 0\n",
    "    for i in six.moves.range(0,N_test,batchsize):\n",
    "        x_batch = xp.asarray(x_test[i:i+batchsize])\n",
    "        t_batch = xp.asarray(t_test[i:i+batchsize])\n",
    "        \n",
    "        loss = model.forward(x_batch, t_batch, train=False)\n",
    "        \n",
    "        sum_loss += float(loss.data)*t_batch.shape[0]\n",
    "        \n",
    "    test_loss.append([epoch,sum_loss/N_test])\n",
    "\n",
    "    print \"test mean loss={}\".format(sum_loss/N_test)\n",
    "    \n",
    "train_loss = np.asarray(train_loss)\n",
    "test_loss = np.asarray(test_loss)"
   ]
  },
  {
   "cell_type": "markdown",
   "metadata": {},
   "source": [
    "###Plot&save graph"
   ]
  },
  {
   "cell_type": "code",
   "execution_count": 32,
   "metadata": {
    "collapsed": false
   },
   "outputs": [
    {
     "data": {
      "image/png": "[encoded data removed]",
      "text/plain": [
       "<matplotlib.figure.Figure at 0x7f9675a7e890>"
      ]
     },
     "metadata": {},
     "output_type": "display_data"
    }
   ],
   "source": [
    "fig, ax1 = plt.subplots()\n",
    "ax1.plot(train_loss[:, 0], train_loss[:, 1], label='training loss')\n",
    "ax1.plot(test_loss[:, 0], test_loss[:, 1], label='test loss')\n",
    "ax1.set_xlim([1, len(train_loss)])\n",
    "ax1.set_xlabel('epoch')\n",
    "ax1.set_ylabel('loss')\n",
    "\n",
    "\n",
    "ax1.legend(bbox_to_anchor=(0.25, -0.1), loc=9)\n",
    "plt.title(\"6-layer(encoder3+decoder3) Convolutional sigmoid segmantation net\")\n",
    "plt.savefig(dpath+\"/figs/segmentation3_sig\", bbox_inches='tight')\n",
    "\n",
    "plt.show()\n"
   ]
  },
  {
   "cell_type": "markdown",
   "metadata": {},
   "source": [
    "###Save final model"
   ]
  },
  {
   "cell_type": "code",
   "execution_count": 33,
   "metadata": {
    "collapsed": false
   },
   "outputs": [],
   "source": [
    "pickle.dump(model, open('sig_segment3', 'wb'),-1)"
   ]
  },
  {
   "cell_type": "markdown",
   "metadata": {
    "collapsed": true
   },
   "source": [
    "###Test segmentration"
   ]
  },
  {
   "cell_type": "code",
   "execution_count": 34,
   "metadata": {
    "collapsed": false
   },
   "outputs": [],
   "source": [
    "model='sig_segment3'\n",
    "model=pickle.load(open(model,'rb'))"
   ]
  },
  {
   "cell_type": "code",
   "execution_count": 35,
   "metadata": {
    "collapsed": true
   },
   "outputs": [],
   "source": [
    "num=28"
   ]
  },
  {
   "cell_type": "markdown",
   "metadata": {},
   "source": [
    "####raw data"
   ]
  },
  {
   "cell_type": "code",
   "execution_count": 36,
   "metadata": {
    "collapsed": false
   },
   "outputs": [
    {
     "data": {
      "text/plain": [
       "<matplotlib.image.AxesImage at 0x7f967595da10>"
      ]
     },
     "execution_count": 36,
     "metadata": {},
     "output_type": "execute_result"
    },
    {
     "data": {
      "image/png": "[encoded data removed]",
      "text/plain": [
       "<matplotlib.figure.Figure at 0x7f96759cc950>"
      ]
     },
     "metadata": {},
     "output_type": "display_data"
    }
   ],
   "source": [
    "plt.imshow(x_test[num,0,:],cmap = plt.get_cmap('gray'))"
   ]
  },
  {
   "cell_type": "markdown",
   "metadata": {},
   "source": [
    "####ground truth"
   ]
  },
  {
   "cell_type": "code",
   "execution_count": 37,
   "metadata": {
    "collapsed": false
   },
   "outputs": [
    {
     "data": {
      "text/plain": [
       "<matplotlib.image.AxesImage at 0x7f9675886ad0>"
      ]
     },
     "execution_count": 37,
     "metadata": {},
     "output_type": "execute_result"
    },
    {
     "data": {
      "image/png": "[encoded data removed]",
      "text/plain": [
       "<matplotlib.figure.Figure at 0x7f96759a0a90>"
      ]
     },
     "metadata": {},
     "output_type": "display_data"
    }
   ],
   "source": [
    "plt.imshow(t_test[num,0,:],cmap = plt.get_cmap('gray'))"
   ]
  },
  {
   "cell_type": "markdown",
   "metadata": {},
   "source": [
    "####Predictied map"
   ]
  },
  {
   "cell_type": "code",
   "execution_count": 38,
   "metadata": {
    "collapsed": false
   },
   "outputs": [],
   "source": [
    "predict = np.array([]).astype(np.float32) \n",
    "for i in xrange(len(x_test)):\n",
    "    hoge = xp.asarray(x_test[i:i+1])\n",
    "    hoge=cuda.to_cpu(model.predict(hoge))\n",
    "    hoge=np.array(hoge)\n",
    "    if i==0:\n",
    "        predict = hoge\n",
    "    else:\n",
    "        predict = np.concatenate((predict, hoge),axis=0)"
   ]
  },
  {
   "cell_type": "code",
   "execution_count": 39,
   "metadata": {
    "collapsed": false
   },
   "outputs": [
    {
     "data": {
      "text/plain": [
       "<matplotlib.image.AxesImage at 0x7f9674f80610>"
      ]
     },
     "execution_count": 39,
     "metadata": {},
     "output_type": "execute_result"
    },
    {
     "data": {
      "image/png": "[encoded data removed]",
      "text/plain": [
       "<matplotlib.figure.Figure at 0x7f96758c5990>"
      ]
     },
     "metadata": {},
     "output_type": "display_data"
    }
   ],
   "source": [
    "plt.imshow(predict[num,0,:],cmap = plt.get_cmap('gray'))"
   ]
  },
  {
   "cell_type": "markdown",
   "metadata": {},
   "source": [
    "###Save result"
   ]
  },
  {
   "cell_type": "code",
   "execution_count": 40,
   "metadata": {
    "collapsed": true
   },
   "outputs": [],
   "source": [
    "np.save(dpath+\"/result/rawimage_sig3.npy\",x_test)\n",
    "np.save(dpath+\"/result/groundtruth_sig3.npy\",t_test)\n",
    "np.save(dpath+\"/result/predict_sig3.npy\",predict)"
   ]
  },
  {
   "cell_type": "code",
   "execution_count": null,
   "metadata": {
    "collapsed": true
   },
   "outputs": [],
   "source": []
  }
 ],
 "metadata": {
  "kernelspec": {
   "display_name": "Python 2",
   "language": "python",
   "name": "python2"
  },
  "language_info": {
   "codemirror_mode": {
    "name": "ipython",
    "version": 2
   },
   "file_extension": ".py",
   "mimetype": "text/x-python",
   "name": "python",
   "nbconvert_exporter": "python",
   "pygments_lexer": "ipython2",
   "version": "2.7.6"
  }
 },
 "nbformat": 4,
 "nbformat_minor": 0
}
